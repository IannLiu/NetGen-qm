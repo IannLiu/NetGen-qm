{
 "cells": [
  {
   "cell_type": "code",
   "execution_count": 1,
   "outputs": [],
   "source": [
    "test_rxns = ['[H:1][C:2]([H:3])[C:4]([H:5])([H:6])[H:7].[H:8][C:9]([H:10])[H:11]>>[H:1][C:2]([H:3])([C:4]([H:5])([H:6])[H:7])[C:9]([H:8])([H:10])[H:11]',\n",
    "             '[H:11][H:12].[H:1][C:2]([H:3])[C:4]([H:5])([H:6])[C:7]([H:8])([H:9])[H:10]>>[H:12].[H:1][C:2]([H:3])([C:4]([H:5])([H:6])[C:7]([H:8])([H:9])[H:10])[H:11]',\n",
    "             '[H:1][C:2]([H:3])=[C:4][H:6].[H:5][C:11]([H:10])([H:12])[C:13]([H:14])[H:15]>>[H:10][C:11]([H:12])=[C:13]([H:14])[H:15].[H:1][C:2]([H:3])=[C:4]([H:5])[H:6]',\n",
    "             '[H:11][C:12]([H:13])[C:14]([H:15])([H:16])[H:17].[H:1][C:2]([H:3])[C:7]([H:8])([H:9])[H:10]>>[H:11][C:12]([H:13])=[C:14]([H:16])[H:17].[H:1][C:2]([H:3])([C:7]([H:8])([H:9])[H:10])[H:15]']"
   ],
   "metadata": {
    "collapsed": false
   }
  },
  {
   "cell_type": "code",
   "execution_count": 2,
   "outputs": [
    {
     "data": {
      "text/plain": "\"cal_rxn = NetGenQM(rxn_smiles='C[CH2].C>>CC.[CH3]',\\n                   temps=list(range(300, 1900, 100)),\\n                   hmethod='orca',\\n                   lmethod='xtb')\\ncal_rxn.sw_cms([['orca', 16, 4000],['xtb', 8, 4000]])\\ncal_rxn.sw_level_of_theory([['opt', 'g16', 'wb97xd3', 'def2tzvp', 'no_dispersion'],\\n                            ['hess', 'g16', 'wb97xd3', 'def2tzvp', 'no_dispersion'],\\n                            ['opt_ts', 'g16', 'wb97xd3', 'def2tzvp', 'no_dispersion'],\\n                            ['sp', 'g16', 'wb97xd3', 'def2tzvp', 'no_dispersion'],])\\ncal_rxn.get_kinetics()\""
     },
     "execution_count": 2,
     "metadata": {},
     "output_type": "execute_result"
    }
   ],
   "source": [
    "from main import NetGenQM\n",
    "# os.environ['LD_LIBRARY_PATH'] = \"/home/ly/orca:/home/ly/openmpi411/lib\""
   ],
   "metadata": {
    "collapsed": false
   }
  },
  {
   "cell_type": "code",
   "execution_count": 4,
   "outputs": [
    {
     "name": "stdout",
     "output_type": "stream",
     "text": [
      "TS search using migration module\n",
      "Calculating reactant thermochemistry...\n",
      "Calculating product thermochemistry...\n",
      "Breaking and formation bond scan...\n",
      "TS guessing...\n",
      "load coordinates from scan_4-6_optimised_xtb.xyz\n",
      "Transition state was found by orca\n",
      "TS calculation\n"
     ]
    },
    {
     "data": {
      "text/plain": "{'forward': {'A': 4.982396642152625e-12,\n  'n': 5.365583399802718,\n  'Ea': 32418.778745437874},\n 'reverse': {'A': 5.713604651525697e-12,\n  'n': 6.047568570332127,\n  'Ea': 321018.46136726235}}"
     },
     "execution_count": 4,
     "metadata": {},
     "output_type": "execute_result"
    }
   ],
   "source": [
    "cal_rxn = NetGenQM(rxn_smiles=test_rxns[2],\n",
    "                   temps=list(range(300, 1900, 100)),\n",
    "                   hmethod='orca',\n",
    "                   lmethod='xtb')\n",
    "cal_rxn.sw_cms([['orca', 16, 4000],['xtb', 8, 4000]])\n",
    "cal_rxn.sw_level_of_theory([['opt', 'orca', 'b3lyp', '631gx', 'no_dispersion'],\n",
    "                            ['hess', 'orca', 'b3lyp', '631gx', 'no_dispersion'],\n",
    "                            ['opt_ts', 'orca', 'b3lyp', '631gx', 'no_dispersion'],\n",
    "                            ['sp', 'orca', 'b3lyp', '631gx', 'no_dispersion']])\n",
    "cal_rxn.get_kinetics()"
   ],
   "metadata": {
    "collapsed": false
   }
  },
  {
   "cell_type": "code",
   "execution_count": 4,
   "outputs": [],
   "source": [],
   "metadata": {
    "collapsed": false
   }
  }
 ],
 "metadata": {
  "kernelspec": {
   "display_name": "Python 3",
   "language": "python",
   "name": "python3"
  },
  "language_info": {
   "codemirror_mode": {
    "name": "ipython",
    "version": 2
   },
   "file_extension": ".py",
   "mimetype": "text/x-python",
   "name": "python",
   "nbconvert_exporter": "python",
   "pygments_lexer": "ipython2",
   "version": "2.7.6"
  }
 },
 "nbformat": 4,
 "nbformat_minor": 5
}
