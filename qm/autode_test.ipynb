{
 "cells": [
  {
   "cell_type": "code",
   "execution_count": 1,
   "id": "4e538aba",
   "metadata": {},
   "outputs": [],
   "source": [
    "import paramiko\n",
    "import sys\n",
    "\n",
    "host = \"10.72.239.203\"\n",
    "port = 33\n",
    "user = \"ly\"\n",
    "password = \"huasi203204210\"\n",
    "\n",
    "def pl_ssh(ip,password,username,cmd,port):\n",
    "    ssh_client=paramiko.SSHClient()\n",
    "    ssh_client.set_missing_host_key_policy(paramiko.AutoAddPolicy)\n",
    "    try:\n",
    "        ssh_client.connect(hostname=ip,username=username,password=password, port=port)\n",
    "    except Exception as e:\n",
    "        print('服务器%s连接失败' %ip)\n",
    "        print(e)\n",
    "        sys.exit()\n",
    "    stdin,stdout,stderr=ssh_client.exec_command(cmd)\n",
    "    \n",
    "    tinfo = stdout.read().decode()\n",
    "    info = stderr.read().decode(\"utf-8\")\n",
    "    ssh_client.close()\n",
    "    print(tinfo)\n",
    "    print(type(tinfo))\n",
    "    print(\"*\"*40)\n",
    "    if info == \"\":\n",
    "        print(\"test pass!\")\n",
    "    "
   ]
  },
  {
   "cell_type": "code",
   "execution_count": 2,
   "id": "ec6a70a7",
   "metadata": {},
   "outputs": [
    {
     "name": "stdout",
     "output_type": "stream",
     "text": [
      ",\n",
      "anaconda3\n",
      "Desktop\n",
      "Documents\n",
      "Downloads\n",
      "examples.desktop\n",
      "g16\n",
      "gxs\n",
      "Music\n",
      "openmpi411\n",
      "orca\n",
      "path.py\n",
      "Pictures\n",
      "Public\n",
      "runall.sh\n",
      "snap\n",
      "Templates\n",
      "Videos\n",
      "88x2bu-5.8.7.4\n",
      "autode\n",
      "net_vis\n",
      "r8125-9.005.01\n",
      "r8125-9.005.01.zip\n",
      "r8125-9.010.01.tar.bz2\n",
      "rate_constants_regression\n",
      "RMG\n",
      "RMG_run\n",
      "ROC\n",
      "\n",
      "<class 'str'>\n",
      "****************************************\n",
      "test pass!\n"
     ]
    }
   ],
   "source": [
    "pl_ssh(ip=\"10.72.239.203\",\n",
    "               username=\"ly\",\n",
    "               password=\"huasi203204210\",\n",
    "               cmd=\"bash -l -c 'ls; cd Desktop; ls'\",\n",
    "               port=\"33\"\n",
    "               )"
   ]
  },
  {
   "cell_type": "code",
   "execution_count": 3,
   "id": "64876c2c",
   "metadata": {},
   "outputs": [],
   "source": [
    "def sftp_exec_command(command):\n",
    "    try:\n",
    "        ssh_client = paramiko.SSHClient()\n",
    "        ssh_client.set_missing_host_key_policy(paramiko.AutoAddPolicy())\n",
    "        ssh_client.connect(host, 33, user, password)\n",
    "        std_in, std_out, std_err = ssh_client.exec_command(command)\n",
    "        for line in std_out:\n",
    "            print(line.strip(\"\\n\"))\n",
    "        ssh_client.close()\n",
    "    except Exception as e:\n",
    "        print (e)\n",
    "\n"
   ]
  },
  {
   "cell_type": "code",
   "execution_count": 4,
   "id": "1b21030f",
   "metadata": {},
   "outputs": [
    {
     "name": "stdout",
     "output_type": "stream",
     "text": [
      "Filesystem      Size  Used Avail Use% Mounted on\n",
      "udev             63G     0   63G   0% /dev\n",
      "tmpfs            13G  2.4M   13G   1% /run\n",
      "/dev/nvme0n1p2  457G  126G  308G  29% /\n",
      "tmpfs            63G     0   63G   0% /dev/shm\n",
      "tmpfs           5.0M  4.0K  5.0M   1% /run/lock\n",
      "tmpfs            63G     0   63G   0% /sys/fs/cgroup\n",
      "/dev/loop1      640K  640K     0 100% /snap/gnome-logs/112\n",
      "/dev/nvme0n1p1  511M  4.5M  507M   1% /boot/efi\n",
      "/dev/loop2      219M  219M     0 100% /snap/gnome-3-34-1804/72\n",
      "/dev/loop3      219M  219M     0 100% /snap/gnome-3-34-1804/77\n",
      "/dev/loop4      347M  347M     0 100% /snap/gnome-3-38-2004/119\n",
      "/dev/loop5       64M   64M     0 100% /snap/core20/1738\n",
      "/dev/loop6      415M  415M     0 100% /snap/gnome-42-2204/29\n",
      "/dev/loop7       56M   56M     0 100% /snap/core18/2632\n",
      "/dev/loop0       56M   56M     0 100% /snap/core18/2620\n",
      "/dev/loop8      1.5M  1.5M     0 100% /snap/gnome-system-monitor/181\n",
      "/dev/loop10      50M   50M     0 100% /snap/snapd/17883\n",
      "/dev/loop9       64M   64M     0 100% /snap/core20/1634\n",
      "/dev/loop11      92M   92M     0 100% /snap/gtk-common-themes/1535\n",
      "/dev/loop12     512K  512K     0 100% /snap/gnome-characters/781\n",
      "/dev/loop13      73M   73M     0 100% /snap/core22/444\n",
      "/dev/loop14      73M   73M     0 100% /snap/core22/310\n",
      "/dev/loop15     447M  447M     0 100% /snap/gnome-42-2204/44\n",
      "/dev/loop16     145M  145M     0 100% /snap/notepadqq/855\n",
      "/dev/loop18     347M  347M     0 100% /snap/gnome-3-38-2004/115\n",
      "/dev/loop17     2.7M  2.7M     0 100% /snap/gnome-system-monitor/178\n",
      "/dev/loop19     768K  768K     0 100% /snap/gnome-logs/115\n",
      "/dev/loop20     2.5M  2.5M     0 100% /snap/gnome-calculator/884\n",
      "/dev/loop21      66M   66M     0 100% /snap/gtk-common-themes/1515\n",
      "/dev/loop23     768K  768K     0 100% /snap/gnome-characters/741\n",
      "/dev/loop22     117M  117M     0 100% /snap/core/14399\n",
      "/dev/loop24     128K  128K     0 100% /snap/bare/5\n",
      "/dev/loop25     2.7M  2.7M     0 100% /snap/gnome-calculator/920\n",
      "tmpfs            13G   16K   13G   1% /run/user/121\n",
      "tmpfs            13G   64K   13G   1% /run/user/1000\n"
     ]
    }
   ],
   "source": [
    "sftp_exec_command(\"df -h\")"
   ]
  }
 ],
 "metadata": {
  "kernelspec": {
   "display_name": "Python 3 (ipykernel)",
   "language": "python",
   "name": "python3"
  },
  "language_info": {
   "codemirror_mode": {
    "name": "ipython",
    "version": 3
   },
   "file_extension": ".py",
   "mimetype": "text/x-python",
   "name": "python",
   "nbconvert_exporter": "python",
   "pygments_lexer": "ipython3",
   "version": "3.9.13"
  }
 },
 "nbformat": 4,
 "nbformat_minor": 5
}
